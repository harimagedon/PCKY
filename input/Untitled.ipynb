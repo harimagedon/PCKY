{
 "cells": [
  {
   "cell_type": "code",
   "execution_count": 3,
   "id": "6d4bc1cb-7928-4820-a54a-6593b32313d9",
   "metadata": {},
   "outputs": [],
   "source": [
    "import math\n",
    "from nltk import CFG\n",
    "from nltk import Tree\n",
    "import time\n",
    "import glob\n",
    "import pickle\n",
    "import sys\n",
    "from tqdm import tqdm"
   ]
  },
  {
   "cell_type": "code",
   "execution_count": 4,
   "id": "3fc7402e-b23b-4da9-8a6e-f4c78dbc3ebd",
   "metadata": {},
   "outputs": [],
   "source": [
    "with open('wsj23.mrg', 'r') as file:\n",
    "    lines = file.readlines()"
   ]
  },
  {
   "cell_type": "code",
   "execution_count": 17,
   "id": "e5ae96ff-4555-42e9-bb36-be1b90546557",
   "metadata": {},
   "outputs": [],
   "source": [
    "split = 0\n",
    "file_num = 0\n",
    "for line in lines:\n",
    "    split += 1\n",
    "    if split == 31:\n",
    "        file_num += 1\n",
    "        split = 0\n",
    "    with open('wsj23.{}.mrg'.format(str(file_num).zfill(2)), 'a') as f:\n",
    "        f.write(\"{}\".format(line))"
   ]
  },
  {
   "cell_type": "code",
   "execution_count": 13,
   "id": "3e530de1-c0a3-400d-ac72-7fe4a8817c6f",
   "metadata": {},
   "outputs": [],
   "source": [
    "formatted_number = str(0).zfill(2) "
   ]
  },
  {
   "cell_type": "code",
   "execution_count": 14,
   "id": "f023dbbd-2baf-4be5-a02f-08d186d7af7a",
   "metadata": {},
   "outputs": [
    {
     "data": {
      "text/plain": [
       "'00'"
      ]
     },
     "execution_count": 14,
     "metadata": {},
     "output_type": "execute_result"
    }
   ],
   "source": [
    "formatted_number"
   ]
  },
  {
   "cell_type": "code",
   "execution_count": 1,
   "id": "52c25319-56d7-40b3-8ea1-fe0d5d11f4ae",
   "metadata": {},
   "outputs": [
    {
     "name": "stdout",
     "output_type": "stream",
     "text": [
      "これは普通のprintです\n"
     ]
    },
    {
     "name": "stderr",
     "output_type": "stream",
     "text": [
      "stderr を使いました\n"
     ]
    }
   ],
   "source": [
    "import sys\n",
    "print(\"これは普通のprintです\")\n",
    "print(\"stderr を使いました\", file=sys.stderr)"
   ]
  },
  {
   "cell_type": "code",
   "execution_count": null,
   "id": "c6d93a39-30a9-4c05-8b18-ebb144a915ed",
   "metadata": {},
   "outputs": [],
   "source": []
  }
 ],
 "metadata": {
  "kernelspec": {
   "display_name": "env_02",
   "language": "python",
   "name": "env_02"
  },
  "language_info": {
   "codemirror_mode": {
    "name": "ipython",
    "version": 3
   },
   "file_extension": ".py",
   "mimetype": "text/x-python",
   "name": "python",
   "nbconvert_exporter": "python",
   "pygments_lexer": "ipython3",
   "version": "3.9.17"
  }
 },
 "nbformat": 4,
 "nbformat_minor": 5
}
